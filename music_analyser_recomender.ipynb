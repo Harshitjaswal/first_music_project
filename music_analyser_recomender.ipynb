{
 "cells": [
  {
   "cell_type": "markdown",
   "id": "a0e25ded-8e82-4ca0-a23c-a93c27d633aa",
   "metadata": {},
   "source": [
    "# Project Title : Personalized Music Recommendations Using Listening History"
   ]
  },
  {
   "cell_type": "markdown",
   "id": "b879be61-5c07-4984-97ba-2dd5606b3415",
   "metadata": {},
   "source": [
    "### Importing Libraries"
   ]
  },
  {
   "cell_type": "code",
   "execution_count": 166,
   "id": "b279b269-89bd-4037-bc15-253ed4c51a2d",
   "metadata": {},
   "outputs": [],
   "source": [
    "import sqlite3\n",
    "import pandas as pd\n",
    "import matplotlib.pyplot as plt\n",
    "import ipywidgets as widgets\n",
    "from IPython.display import display, clear_output\n",
    "#for font adjustment\n",
    "from matplotlib import rcParams\n",
    "rcParams['font.sans-serif'] = ['Microsoft YaHei']\n",
    "rcParams['axes.unicode_minus'] = False\n"
   ]
  },
  {
   "cell_type": "markdown",
   "id": "6bf0b244-6db6-4d7d-9c3f-d83c319824a2",
   "metadata": {},
   "source": [
    "### Reading db file and connecting it to database"
   ]
  },
  {
   "cell_type": "code",
   "execution_count": 167,
   "id": "377c3c71-35da-41a6-9de2-615b40740ae5",
   "metadata": {
    "scrolled": true
   },
   "outputs": [
    {
     "name": "stdout",
     "output_type": "stream",
     "text": [
      "Tables:\n",
      "       name\n",
      "0    users\n",
      "1  artists\n",
      "2   albums\n",
      "3   tracks\n",
      "4  listens\n"
     ]
    }
   ],
   "source": [
    "#reading db file \n",
    "db_path =r\"C:\\Users\\jaswa\\OneDrive\\Desktop\\lastfm-dataset-50-extended-normalized.db\"\n",
    "\n",
    "# Connect to the database\n",
    "conn = sqlite3.connect(db_path)\n",
    "\n",
    "# List all tables in the database\n",
    "tables = pd.read_sql_query(\"SELECT name FROM sqlite_master WHERE type='table';\", conn)\n",
    "print(\"Tables:\\n\", tables)"
   ]
  },
  {
   "cell_type": "markdown",
   "id": "e22b03e0-ab13-453a-aef2-f85bb61b78f1",
   "metadata": {},
   "source": [
    "### selection of database tables and displays their schema"
   ]
  },
  {
   "cell_type": "code",
   "execution_count": 168,
   "id": "4c2b7115-df85-457e-b8b1-a16b747a16e3",
   "metadata": {},
   "outputs": [
    {
     "data": {
      "application/vnd.jupyter.widget-view+json": {
       "model_id": "b1b0c74d056b40f0863be9f2b14f3490",
       "version_major": 2,
       "version_minor": 0
      },
      "text/plain": [
       "Dropdown(description='Select Table:', options=('users', 'artists', 'albums', 'tracks', 'listens'), value='user…"
      ]
     },
     "metadata": {},
     "output_type": "display_data"
    },
    {
     "data": {
      "application/vnd.jupyter.widget-view+json": {
       "model_id": "3190ec0216d840ad9d60ea270372bb7f",
       "version_major": 2,
       "version_minor": 0
      },
      "text/plain": [
       "Output()"
      ]
     },
     "metadata": {},
     "output_type": "display_data"
    }
   ],
   "source": [
    "\n",
    "# Assuming table_names is already defined\n",
    "table_dropdown = widgets.Dropdown(\n",
    "    options=table_names,\n",
    "    description='Select Table:'\n",
    ")\n",
    "\n",
    "output = widgets.Output()\n",
    "\n",
    "def display_table_schema(table_name):\n",
    "    with output:\n",
    "        output.clear_output(wait=True)  # Clear only the output area, not the whole cell\n",
    "        cursor = conn.cursor()\n",
    "        cursor.execute(f'PRAGMA table_info(\"{table_name}\");')\n",
    "        schema = cursor.fetchall()\n",
    "        \n",
    "        print(f\"Schema for table '{table_name}':\")\n",
    "        print(\"Column ID | Name       | Type     | Not Null | Default | Primary Key\")\n",
    "        print(\"-\" * 60)\n",
    "        for col in schema:\n",
    "            print(f\"{col[0]:8} | {col[1]:10} | {col[2]:8} | {col[3]:8} | {str(col[4]):7} | {col}\")\n",
    "\n",
    "def on_table_change(change):\n",
    "    if change['type'] == 'change' and change['name'] == 'value':\n",
    "        display_table_schema(change['new'])\n",
    "\n",
    "table_dropdown.observe(on_table_change)\n",
    "\n",
    "# Initial display\n",
    "display(table_dropdown, output)\n",
    "display_table_schema(table_dropdown.value)\n"
   ]
  },
  {
   "cell_type": "code",
   "execution_count": 169,
   "id": "a221c5fa-381f-4865-b66a-13e62b944df4",
   "metadata": {},
   "outputs": [],
   "source": [
    "pd.set_option('display.max_columns', 8)    # Limit to 6 columns in output\n",
    "pd.set_option('display.width', 150)        # Adjust total table width"
   ]
  },
  {
   "cell_type": "markdown",
   "id": "1df13edb-e5a6-4c74-83ec-377625a7b81e",
   "metadata": {},
   "source": [
    "### TOP 5 values for each Table (just for the basic idea of Tables)"
   ]
  },
  {
   "cell_type": "code",
   "execution_count": 170,
   "id": "65da4163-b4a9-4844-87ba-1d210131ea25",
   "metadata": {},
   "outputs": [
    {
     "name": "stdout",
     "output_type": "stream",
     "text": [
      "   id         name\n",
      "0   1  user_000001\n",
      "1   2  user_000021\n",
      "2   3  user_000041\n",
      "3   4  user_000061\n",
      "4   5  user_000081\n"
     ]
    }
   ],
   "source": [
    "# 1. users table\n",
    "df1 = pd.read_sql_query(f\"SELECT * FROM users LIMIT 5;\", conn)\n",
    "print(df1.head())"
   ]
  },
  {
   "cell_type": "code",
   "execution_count": 171,
   "id": "9ee6576c-3d42-4137-a7d6-ad76c6a5cc78",
   "metadata": {},
   "outputs": [
    {
     "name": "stdout",
     "output_type": "stream",
     "text": [
      "   id                                  mbid               name\n",
      "0   1  09a114d9-7723-4e14-b524-379697f6d2b5  Plaid & Bob Jaroc\n",
      "1   2  67fb65b5-6589-47f0-9371-8a40eb268dfb     Tommy Guerrero\n",
      "2   3  1cfbc7d1-299c-46e6-ba4c-1facb84ba435      Artful Dodger\n",
      "3   4  6b77d8ef-c405-4846-9d5f-2b93e6533101       Rei Harakami\n",
      "4   5  27613b78-1b9d-4ec3-9db5-fa0743465fdd     Herbie Hancock\n"
     ]
    }
   ],
   "source": [
    "# 2. artists table\n",
    "df2 = pd.read_sql_query(f\"SELECT * FROM artists LIMIT 5;\", conn)\n",
    "print(df2.head())"
   ]
  },
  {
   "cell_type": "code",
   "execution_count": 172,
   "id": "ac6d9926-ff13-4723-b9f7-3f27146387e2",
   "metadata": {},
   "outputs": [
    {
     "name": "stdout",
     "output_type": "stream",
     "text": [
      "   id                                  mbid                          title artist_id\n",
      "0   1  b5d8192f-6924-4e2c-952b-b10b69eb2cfa                    Greedy Baby         1\n",
      "1   2  3fd45ff2-061c-4b3d-87a8-c946c878ecc1      From the Soil to the Soul         2\n",
      "2   3  155abbf5-1123-4f92-b64e-526e3e3b85b9  It’s All About the Stragglers         3\n",
      "3   4  2ab57484-2483-45e6-90bb-031373fe818a                           Lust         4\n",
      "4   5  5bb9f050-9ec5-4219-a504-68aed2586b9e                Future 2 Future         5\n"
     ]
    }
   ],
   "source": [
    "# 3.albums table\n",
    "df3 = pd.read_sql_query(f\"SELECT * FROM albums LIMIT 5;\", conn)\n",
    "print(df3.head())"
   ]
  },
  {
   "cell_type": "code",
   "execution_count": 173,
   "id": "eecfa324-98ac-4885-a096-5a0a05ff4765",
   "metadata": {},
   "outputs": [
    {
     "name": "stdout",
     "output_type": "stream",
     "text": [
      "   id  artist_id                                  mbid                                     title  album_id  length  tracknumber\n",
      "0   1          1  c4633ab1-e715-477f-8685-afa5f2058e42                 The Launching Of Big Face         1  254173            3\n",
      "1   2          1  bc2765af-208c-44c5-b3b0-cf597a646660                                   Zn Zero         1  438640            4\n",
      "2   3          1  aa9c5a80-5cbe-42aa-a966-eb3cfa37d832  The Return Of Super Barrio - End Credits         1   88506            6\n",
      "3   4          2  d9b1c1da-7e47-4f97-a135-77260f2f559d                             Mission Flats         2   89986            8\n",
      "4   5          3  120bb01c-03e4-465f-94a0-dce5e9fac711                        What You Gonna Do?         3  240066           11\n"
     ]
    }
   ],
   "source": [
    "# 4. tracks table\n",
    "df4 = pd.read_sql_query(f\"SELECT * FROM tracks LIMIT 5;\", conn)\n",
    "print(df4.head())"
   ]
  },
  {
   "cell_type": "code",
   "execution_count": 174,
   "id": "54cb2c17-5b5c-4e8d-a150-6a50508c7b86",
   "metadata": {},
   "outputs": [
    {
     "name": "stdout",
     "output_type": "stream",
     "text": [
      "   user_id                  timestamp  track_id\n",
      "0        1  2006-08-13 13:59:20+00:00         1\n",
      "1        1  2006-08-13 14:03:29+00:00         2\n",
      "2        1  2006-08-13 14:10:43+00:00         3\n",
      "3        1  2006-08-13 14:17:40+00:00         4\n",
      "4        1  2006-08-13 14:19:06+00:00         5\n"
     ]
    }
   ],
   "source": [
    "# 5. listens table\n",
    "df5 = pd.read_sql_query(f\"SELECT * FROM listens LIMIT 5;\", conn)\n",
    "print(df5.head())"
   ]
  },
  {
   "cell_type": "markdown",
   "id": "cffc7e50-945a-4c75-a5aa-94159d897c33",
   "metadata": {},
   "source": [
    "# Purpose : Combines listening logs with song, artist, album, and user details in a single DataFrame.\n",
    "\n",
    "## For each listening event, includes:\n",
    "### 1. user ID and name\n",
    "### 2. time played\n",
    "### 3. track ID and title\n",
    "### 4. artist name\n",
    "### 5. album title\n",
    "\n",
    "## Result : Enables rich, human-readable analysis and personalized recommendations using all related metadata."
   ]
  },
  {
   "cell_type": "code",
   "execution_count": 175,
   "id": "43a2ab8a-2426-480a-b4d5-c79ec822f666",
   "metadata": {},
   "outputs": [
    {
     "name": "stdout",
     "output_type": "stream",
     "text": [
      "   user_id                  timestamp                               track_title        artist_name    length\n",
      "0        1  2006-08-13 13:59:20+00:00                 The Launching Of Big Face  Plaid & Bob Jaroc  254173.0\n",
      "1        1  2006-08-13 14:03:29+00:00                                   Zn Zero  Plaid & Bob Jaroc  438640.0\n",
      "2        1  2006-08-13 14:10:43+00:00  The Return Of Super Barrio - End Credits  Plaid & Bob Jaroc   88506.0\n",
      "3        1  2006-08-13 14:17:40+00:00                             Mission Flats     Tommy Guerrero   89986.0\n",
      "4        1  2006-08-13 14:19:06+00:00                        What You Gonna Do?      Artful Dodger  240066.0\n",
      "5        1  2006-08-13 14:23:03+00:00                                       Joy       Rei Harakami  600226.0\n",
      "6        1  2006-08-13 14:44:23+00:00                                      Lust       Rei Harakami  300773.0\n",
      "7        1  2006-08-13 14:55:14+00:00                               The Essence     Herbie Hancock  294026.0\n",
      "8        1  2006-08-13 14:59:59+00:00                                 Idioteque          Radiohead  309093.0\n",
      "9        1  2006-08-13 15:05:20+00:00                         Change Of Seasons               高木正勝  129506.0\n"
     ]
    }
   ],
   "source": [
    "query = '''\n",
    "SELECT l.user_id, l.timestamp, t.title AS track_title, a.name AS artist_name, t.length\n",
    "FROM listens l\n",
    "LEFT JOIN tracks t ON l.track_id = t.id\n",
    "LEFT JOIN artists a ON t.artist_id = a.id\n",
    "'''\n",
    "df_listen = pd.read_sql_query(query, conn)\n",
    "print(df_listen.head(10))\n"
   ]
  },
  {
   "cell_type": "markdown",
   "id": "1ba33340-1cc9-4e75-b3ae-8c5f56384e53",
   "metadata": {},
   "source": [
    "### Purpose: Enables grouping, filtering, or analyzing user listening behavior by hour of day."
   ]
  },
  {
   "cell_type": "code",
   "execution_count": 176,
   "id": "364971d1-8444-4e9e-b317-9d0fb5c7cde2",
   "metadata": {},
   "outputs": [
    {
     "data": {
      "image/png": "[encoded data removed]",
      "text/plain": [
       "<Figure size 640x480 with 1 Axes>"
      ]
     },
     "metadata": {},
     "output_type": "display_data"
    }
   ],
   "source": [
    "# Listening counts per hour of all users\n",
    "df_listen['hour'] = pd.to_datetime(df_listen['timestamp']).dt.hour\n",
    "df_listen['hour'].value_counts().sort_index().plot(kind='bar')\n",
    "plt.title('Listening Frequency by Hour')\n",
    "plt.xlabel('Hour')\n",
    "plt.ylabel('Play Count')\n",
    "plt.show()\n"
   ]
  },
  {
   "cell_type": "markdown",
   "id": "d3375d1d-b795-49f8-9154-ea385d93182d",
   "metadata": {},
   "source": [
    "## creating a profile for a specific user"
   ]
  },
  {
   "cell_type": "markdown",
   "id": "cd9673af-e413-47e4-8e5c-5ca4b7fa68a7",
   "metadata": {},
   "source": [
    "### Purpose 1: Focuses analysis and visualizations on a single user’s behavior for personalized insights\n",
    "### Purpose 2: Measures how active and diverse the user’s musical taste is."
   ]
  },
  {
   "cell_type": "code",
   "execution_count": 177,
   "id": "d66091d6-adb7-4177-b78a-336de47f5b59",
   "metadata": {},
   "outputs": [
    {
     "name": "stdout",
     "output_type": "stream",
     "text": [
      "User Profile for User ID 1:\n",
      "\n",
      "Total tracks listened: 16685\n",
      "Unique artists listened to: 488\n",
      "Top 3 artists:\n",
      "artist_name\n",
      "Underworld    747\n",
      "Cornelius     518\n",
      "Plaid         444\n",
      "坂本龍一          441\n",
      "Name: count, dtype: int64\n",
      "\n",
      "Top 3 tracks:\n",
      "track_title\n",
      "Music         70\n",
      "Gum           63\n",
      "Child Song    45\n",
      "Name: count, dtype: int64\n",
      "\n",
      "Most frequent listening hour(s):\n",
      "hour\n",
      "13    3821\n",
      "14    3408\n",
      "15    2471\n",
      "Name: count, dtype: int64\n",
      "\n",
      "Average song length: 290.84 seconds (4.85 minutes)\n"
     ]
    }
   ],
   "source": [
    "import pandas as pd\n",
    "import matplotlib.pyplot as plt\n",
    "\n",
    "# Step 1: Select a user_id (replace with an actual user_id from your dataset)\n",
    "user_id = 1  # Example: 1\n",
    "\n",
    "df_listen['hour'] = pd.to_datetime(df_listen['timestamp']).dt.hour\n",
    "\n",
    "# Filter for this user\n",
    "user_df = df_listen[df_listen['user_id'] == user_id]\n",
    "\n",
    "# Q1: Total tracks listened to\n",
    "total_tracks = user_df.shape[0]\n",
    "\n",
    "# Q2: Unique artists\n",
    "unique_artists = user_df['artist_name'].nunique()\n",
    "\n",
    "# Q3: Top 3 artists\n",
    "top_artists = user_df['artist_name'].value_counts().head(4)\n",
    "\n",
    "# Q4: Top 3 tracks\n",
    "top_tracks = user_df['track_title'].value_counts().head(3)\n",
    "\n",
    "# Q5: Most frequent listening hour(s)\n",
    "most_hours = user_df['hour'].value_counts().head(3)\n",
    "\n",
    "# Q6: Average length (in seconds)\n",
    "avg_length_sec = (user_df['length'] / 1000).mean()\n",
    "\n",
    "print(f\"User Profile for User ID {user_id}:\\n\")\n",
    "print(f\"Total tracks listened: {total_tracks}\")\n",
    "print(f\"Unique artists listened to: {unique_artists}\")\n",
    "print(\"Top 3 artists:\")\n",
    "print(top_artists)\n",
    "print(\"\\nTop 3 tracks:\")\n",
    "print(top_tracks)\n",
    "print(\"\\nMost frequent listening hour(s):\")\n",
    "print(most_hours)\n",
    "print(f\"\\nAverage song length: {avg_length_sec:.2f} seconds ({avg_length_sec/60:.2f} minutes)\")"
   ]
  },
  {
   "cell_type": "markdown",
   "id": "44ac872f-8380-44d7-a732-b98de1951977",
   "metadata": {},
   "source": [
    "### Purpose: Visualizes when (what hour) the user is most musically active—informing time-aware recommendations."
   ]
  },
  {
   "cell_type": "code",
   "execution_count": 178,
   "id": "1d50f11b-b5c4-48cc-ac41-080f8afd1b92",
   "metadata": {},
   "outputs": [
    {
     "data": {
      "image/png": "[encoded data removed]",
      "text/plain": [
       "<Figure size 640x480 with 1 Axes>"
      ]
     },
     "metadata": {},
     "output_type": "display_data"
    }
   ],
   "source": [
    "# visualize listening pattern by hour for a users\n",
    "user_df['hour'].value_counts().sort_index().plot(kind='bar')\n",
    "plt.title(f'Listening Frequency by Hour for User {user_id}')\n",
    "plt.xlabel('Hour of Day')\n",
    "plt.ylabel('Play Count')\n",
    "plt.show()"
   ]
  },
  {
   "cell_type": "markdown",
   "id": "ef34a58e-68f7-4784-99b0-0627ca4ccbf2",
   "metadata": {},
   "source": [
    "### Purpose: Illustrates whether the user listens to a diverse set of artists or repeats a few favorites."
   ]
  },
  {
   "cell_type": "code",
   "execution_count": 179,
   "id": "d36a5034-5a44-4c81-ac9e-f47a34237358",
   "metadata": {},
   "outputs": [
    {
     "data": {
      "image/png": "[encoded data removed]",
      "text/plain": [
       "<Figure size 640x480 with 1 Axes>"
      ]
     },
     "metadata": {},
     "output_type": "display_data"
    }
   ],
   "source": [
    "# Pie chart for top 5 artists' share + 'others'\n",
    "artist_counts = user_df['artist_name'].value_counts()\n",
    "top5 = artist_counts.head(5)\n",
    "others = artist_counts[5:].sum()\n",
    "\n",
    "# Use pd.concat instead of append\n",
    "pie_data = pd.concat([top5, pd.Series({'Others': others})])\n",
    "\n",
    "pie_data.plot(kind='pie', autopct='%.1f%%', startangle=90)\n",
    "plt.ylabel(\"\")\n",
    "plt.title(f\"Artist Share for User {user_id}\")\n",
    "plt.show()\n"
   ]
  },
  {
   "cell_type": "markdown",
   "id": "07ece7c1-b775-4bde-8f4d-a02e6efcec22",
   "metadata": {},
   "source": [
    "## FOR RECOMMENDATION"
   ]
  },
  {
   "cell_type": "markdown",
   "id": "209817fd-927f-4a6e-9de1-936c6567e737",
   "metadata": {},
   "source": [
    "### Purpose Fx(1): Finds the artist the user plays most, and explains why they are being recommended.\n",
    "### Purpose Fx(2): Uses user's listening peaks to suggest tracks that match their time-of-day preferences.\n",
    "### Purpose Fx(3): Promotes more diverse listening or affirms their existing range."
   ]
  },
  {
   "cell_type": "code",
   "execution_count": 180,
   "id": "7df6810e-fe9f-418b-aac0-63e26a3a6c49",
   "metadata": {},
   "outputs": [],
   "source": [
    "def recommend_top_artist(user_df):\n",
    "    top_artist = user_df['artist_name'].value_counts().idxmax()\n",
    "    return f\"We recommend {top_artist} because you listen to them most frequently.\"\n",
    "\n",
    "def recommend_peak_hour_track(user_df):\n",
    "    peak_hour = user_df['hour'].value_counts().idxmax()\n",
    "    top_tracks_at_peak = user_df[user_df['hour'] == peak_hour]['track_title'].value_counts()\n",
    "    track = top_tracks_at_peak.idxmax()\n",
    "    return f\"At your favorite hour ({peak_hour}:00), you love {track}—try it again!\"\n",
    "\n",
    "def recommend_diverse_artist(user_df):\n",
    "    # Find artists listened to only once or infrequently\n",
    "    artist_counts = user_df['artist_name'].value_counts()\n",
    "    lesser_played = artist_counts[(artist_counts == 1)| (artist_counts == 2)].index\n",
    "    if len(lesser_played):\n",
    "        return f\"Mix it up with {lesser_played[0]} for more variety!\"\n",
    "    return \"You're already listening to a great mix of artists!\"\n"
   ]
  },
  {
   "cell_type": "code",
   "execution_count": 181,
   "id": "ab20cd99-35b7-4944-8a09-600386f1c942",
   "metadata": {},
   "outputs": [
    {
     "name": "stdout",
     "output_type": "stream",
     "text": [
      "We recommend Underworld because you listen to them most frequently.\n",
      "At your favorite hour (13:00), you love Music—try it again!\n",
      "Mix it up with Jonny Greenwood for more variety!\n"
     ]
    }
   ],
   "source": [
    "print(recommend_top_artist(user_df))\n",
    "print(recommend_peak_hour_track(user_df))\n",
    "print(recommend_diverse_artist(user_df))\n"
   ]
  },
  {
   "cell_type": "markdown",
   "id": "e236d296-b141-4bd7-869f-295d9e9099a0",
   "metadata": {},
   "source": [
    "### Purpose Fx(3): Recommend tracks the user played frequently in the recent_days but excludes those listened to very recently,                encouraging replay of recent favorites without immediate repetition."
   ]
  },
  {
   "cell_type": "code",
   "execution_count": 182,
   "id": "0b3ffeea-4137-4d18-98ce-5d4b1528cc14",
   "metadata": {},
   "outputs": [],
   "source": [
    "def recommend_recently_loved(user_df, recent_days=30, top_n=5):\n",
    "  \n",
    "    user_df = user_df.copy()\n",
    "    user_df['timestamp'] = pd.to_datetime(user_df['timestamp'])\n",
    "\n",
    "    # Define cutoff dates\n",
    "    max_date = user_df['timestamp'].max()\n",
    "    recent_cutoff = max_date - pd.Timedelta(days=recent_days)\n",
    "    very_recent_cutoff = max_date - pd.Timedelta(days=3)  # Avoid songs listened to in last 3 days\n",
    "    \n",
    "    # Filter listens within recent_days (but NOT very recent)\n",
    "    recent_listens = user_df[(user_df['timestamp'] >= recent_cutoff) & (user_df['timestamp'] < very_recent_cutoff)]\n",
    "    \n",
    "    # Find top tracks in that period\n",
    "    top_tracks = recent_listens['track_title'].value_counts().head(top_n)\n",
    "    \n",
    "    return list(top_tracks.index)\n"
   ]
  },
  {
   "cell_type": "code",
   "execution_count": 183,
   "id": "1975cf91-562d-4ffb-9378-45c15ae7d29d",
   "metadata": {},
   "outputs": [
    {
     "name": "stdout",
     "output_type": "stream",
     "text": [
      "Recency-based recommendations: ['Tibetan Dance (Version)', 'The Last Emperor (Theme)', 'Merry Christmas Mr. Lawrence (Theme) (Live)', \"He Doesn'T Know Why\", 'Heard Them Stirring']\n"
     ]
    }
   ],
   "source": [
    "recommendations = recommend_recently_loved(user_df, recent_days=30, top_n=5)\n",
    "print(\"Recency-based recommendations:\", recommendations)"
   ]
  },
  {
   "cell_type": "markdown",
   "id": "dae1068b-841f-4a93-a456-3fb158f6ca36",
   "metadata": {},
   "source": [
    "## Purpose: Clear, user-facing summary—connects data patterns to actionable recommendations."
   ]
  },
  {
   "cell_type": "code",
   "execution_count": 184,
   "id": "d94fb442-956e-44c1-8094-0637fbda502a",
   "metadata": {},
   "outputs": [
    {
     "name": "stdout",
     "output_type": "stream",
     "text": [
      "\n",
      "User 1 Profile Summary:\n",
      "\n",
      "- Total tracks played: 16685\n",
      "- Unique artists: 488\n",
      "- Most active listening hour: hour\n",
      "13    3821\n",
      "14    3408\n",
      "15    2471\n",
      "Name: count, dtype: int64:00\n",
      "- Top 4 Artists: Underworld, Cornelius, Plaid, 坂本龍一\n",
      "- Top 3 Tracks: Music, Gum, Child Song\n",
      "- They listen mainly during: 13:00, 14:00, 15:00\n",
      "- Avg. song length: 4.85 min\n",
      "\n",
      "Based on this, we’d recommend more music from Underworld or Gum during your peak music listening hour.\n",
      "\n"
     ]
    }
   ],
   "source": [
    "print(f\"\"\"\n",
    "User {user_id} Profile Summary:\n",
    "\n",
    "- Total tracks played: {total_tracks}\n",
    "- Unique artists: {unique_artists}\n",
    "- Most active listening hour: {most_hours}:00\n",
    "- Top 4 Artists: {', '.join(top_artists.index)}\n",
    "- Top 3 Tracks: {', '.join(top_tracks.index)}\n",
    "- They listen mainly during: {', '.join(str(h) + ':00' for h in most_hours.index)}\n",
    "- Avg. song length: {avg_length_sec/60:.2f} min\n",
    "\n",
    "Based on this, we’d recommend more music from {top_artists.index[0]} or {top_tracks.index[1]} during your peak music listening hour.\n",
    "\"\"\")\n"
   ]
  },
  {
   "cell_type": "code",
   "execution_count": 185,
   "id": "48167a29-37a4-4433-b6b8-15688842bddd",
   "metadata": {},
   "outputs": [
    {
     "data": {
      "application/vnd.jupyter.widget-view+json": {
       "model_id": "3062617a46bb4f0d8d4e7c69060c2a49",
       "version_major": 2,
       "version_minor": 0
      },
      "text/plain": [
       "Dropdown(description='Select User:', options=(1, 2, 3, 4, 5, 6, 7, 8, 9, 10, 11, 12, 13, 14, 15, 16, 17, 18, 1…"
      ]
     },
     "metadata": {},
     "output_type": "display_data"
    },
    {
     "data": {
      "application/vnd.jupyter.widget-view+json": {
       "model_id": "bc64755195b04e2ab41a715748f58a3f",
       "version_major": 2,
       "version_minor": 0
      },
      "text/plain": [
       "Output()"
      ]
     },
     "metadata": {},
     "output_type": "display_data"
    }
   ],
   "source": [
    "import ipywidgets as widgets\n",
    "from IPython.display import display, clear_output\n",
    "import matplotlib.pyplot as plt\n",
    "\n",
    "user_ids = df_listen['user_id'].unique().tolist()\n",
    "\n",
    "user_dropdown = widgets.Dropdown(\n",
    "    options=user_ids,\n",
    "    description='Select User:',\n",
    "    value=user_ids[0],\n",
    "    disabled=False,\n",
    ")\n",
    "\n",
    "output = widgets.Output()\n",
    "\n",
    "def display_user_profile(user_id):\n",
    "    with output:\n",
    "        clear_output(wait=True)\n",
    "        \n",
    "        user_df = df_listen[df_listen['user_id'] == user_id].copy()\n",
    "        user_df['timestamp'] = pd.to_datetime(user_df['timestamp'])\n",
    "        user_df['hour'] = user_df['timestamp'].dt.hour\n",
    "        \n",
    "        total_tracks = user_df.shape[0]\n",
    "        unique_artists = user_df['artist_name'].nunique()\n",
    "        top_artists = user_df['artist_name'].value_counts().head(3)\n",
    "        top_tracks = user_df['track_title'].value_counts().head(3)\n",
    "        most_hours = user_df['hour'].value_counts().head(3)\n",
    "        avg_length_sec = (user_df['length'] / 1000).mean()\n",
    "        \n",
    "        print(f\"User Profile for User ID {user_id}:\\n\")\n",
    "        print(f\"Total tracks listened: {total_tracks}\")\n",
    "        print(f\"Unique artists listened to: {unique_artists}\")\n",
    "        print(\"Top 3 artists:\")\n",
    "        print(top_artists)\n",
    "        print(\"\\nTop 3 tracks:\")\n",
    "        print(top_tracks)\n",
    "        print(\"\\nMost frequent listening hour(s):\")\n",
    "        print(most_hours)\n",
    "        print(f\"\\nAverage song length: {avg_length_sec:.2f} seconds ({avg_length_sec/60:.2f} minutes)\")\n",
    "        \n",
    "        user_df['hour'].value_counts().sort_index().plot(kind='bar')\n",
    "        plt.title(f'Listening Frequency by Hour for User {user_id}')\n",
    "        plt.xlabel('Hour of Day')\n",
    "        plt.ylabel('Play Count')\n",
    "        plt.show()\n",
    "        \n",
    "        recs = recommend_recently_loved(user_df)\n",
    "        print(\"Recency-based Recommendations:\")\n",
    "        for i, rec in enumerate(recs, 1):\n",
    "            print(f\"{i}. {rec}\")\n",
    "\n",
    "def on_user_change(change):\n",
    "    if change['type'] == 'change' and change['name'] == 'value':\n",
    "        display_user_profile(change['new'])\n",
    "\n",
    "user_dropdown.observe(on_user_change)\n",
    "\n",
    "# Initial display\n",
    "display(user_dropdown, output)\n",
    "display_user_profile(user_dropdown.value)\n"
   ]
  },
  {
   "cell_type": "code",
   "execution_count": 164,
   "id": "29f7d378-a219-4e51-bd26-7fc8d22ac3ad",
   "metadata": {},
   "outputs": [],
   "source": [
    "# Close the connection\n",
    "conn.close() "
   ]
  },
  {
   "cell_type": "code",
   "execution_count": null,
   "id": "009fa2b8-3394-4881-9f17-dde65c408e93",
   "metadata": {},
   "outputs": [],
   "source": []
  }
 ],
 "metadata": {
  "kernelspec": {
   "display_name": "Python 3 (ipykernel)",
   "language": "python",
   "name": "python3"
  },
  "language_info": {
   "codemirror_mode": {
    "name": "ipython",
    "version": 3
   },
   "file_extension": ".py",
   "mimetype": "text/x-python",
   "name": "python",
   "nbconvert_exporter": "python",
   "pygments_lexer": "ipython3",
   "version": "3.13.5"
  }
 },
 "nbformat": 4,
 "nbformat_minor": 5
}
